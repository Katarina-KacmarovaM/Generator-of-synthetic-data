{
  "cells": [
    {
      "cell_type": "code",
      "execution_count": 19,
      "metadata": {
        "id": "DeKEceYFeeUs"
      },
      "outputs": [],
      "source": [
        "!pip install -q --upgrade torch==2.5.1+cu124 torchvision==0.20.1+cu124 torchaudio==2.5.1+cu124 --index-url https://download.pytorch.org/whl/cu124\n",
        "!pip install -q requests bitsandbytes==0.46.0 transformers==4.48.3 accelerate==1.3.0 openai\n",
        "\n",
        ""
      ]
    },
    {
      "cell_type": "code",
      "source": [
        "!pip install torch==2.3.0 torchvision==0.18.0 --upgrade --quiet\n",
        "!pip install --upgrade transformers accelerate safetensors --quiet"
      ],
      "metadata": {
        "colab": {
          "base_uri": "https://localhost:8080/"
        },
        "id": "jxJXfvG0MfIM",
        "outputId": "f227edc8-cbf4-4434-f34e-62d3c2749c6a"
      },
      "execution_count": 20,
      "outputs": [
        {
          "output_type": "stream",
          "name": "stdout",
          "text": [
            "\u001b[31mERROR: pip's dependency resolver does not currently take into account all the packages that are installed. This behaviour is the source of the following dependency conflicts.\n",
            "torchaudio 2.5.1+cu124 requires torch==2.5.1, but you have torch 2.3.0 which is incompatible.\u001b[0m\u001b[31m\n",
            "\u001b[0m"
          ]
        }
      ]
    },
    {
      "cell_type": "markdown",
      "metadata": {
        "id": "DV81f8KjLLed"
      },
      "source": [
        "Need to write models that will generate data"
      ]
    },
    {
      "cell_type": "code",
      "execution_count": null,
      "metadata": {
        "id": "I-gubEZhDxeT"
      },
      "outputs": [],
      "source": [
        "import os\n",
        "import requests\n",
        "from IPython.display import Markdown, display, update_display\n",
        "from openai import OpenAI\n",
        "from google.colab import drive\n",
        "from huggingface_hub import login\n",
        "from google.colab import userdata\n",
        "from transformers import AutoTokenizer, AutoModelForCausalLM, TextStreamer, BitsAndBytesConfig\n",
        "import torch\n"
      ]
    },
    {
      "cell_type": "markdown",
      "metadata": {
        "id": "TCWKOxeQOG1p"
      },
      "source": [
        "## Need to create environment"
      ]
    },
    {
      "cell_type": "code",
      "execution_count": 21,
      "metadata": {
        "id": "N6BmjTUwOQ4D"
      },
      "outputs": [],
      "source": [
        "huggin_api_key = userdata.get(\"HF_TOKEN\")\n",
        "login(huggin_api_key, add_to_git_credential=True)\n"
      ]
    },
    {
      "cell_type": "markdown",
      "metadata": {
        "id": "n4B_KOb-PxWx"
      },
      "source": [
        "## MODELS THAT I'LL TRY FROM HF"
      ]
    },
    {
      "cell_type": "code",
      "execution_count": 22,
      "metadata": {
        "id": "ZdEmxjtpPxCc"
      },
      "outputs": [],
      "source": [
        "llama='meta-llama/Meta-Llama-3.1-8B-Instruct'\n",
        "qwen_alibaba='Qwen/Qwen2-7B-Instruct'"
      ]
    },
    {
      "cell_type": "markdown",
      "metadata": {
        "id": "2kULTzYtQ0JO"
      },
      "source": [
        "## Now I need to handle prompts"
      ]
    },
    {
      "cell_type": "code",
      "execution_count": 23,
      "metadata": {
        "id": "roXrNbx4Q55n"
      },
      "outputs": [],
      "source": [
        "system_prompt=\"You are data generation assistant that produces realistic,structured synthetic datasets for multi-modal multiagent AI system.Your task is to simulate realistic interactions between agents and users across tabular data,text, time series and structured data formats. \"\n",
        "\n",
        "\n",
        "\n",
        "user_prompt=\"\"\" Generate 50 telemedicine sessions. Each session object must include :\n",
        "  - session_id (UUID)\n",
        "  - patient_id, doctor_id\n",
        "  - start_time, end_time\n",
        "  - turns: list of {timestamp, speaker: \"Patient\"|\"Doctor\", content}\n",
        "  - vitals_timeseries: list of {timestamp, heart_rate, blood_pressure_systolic, blood_pressure_diastolic, temperature, respiratory_rate}\n",
        "  - summary: {avg_heart_rate, min_heart_rate, max_temperature, abnormal_readings_count}\n",
        "  - conclusion: {diagnosis, recommendations: […]}\n",
        "\n",
        " \"\"\"\n"
      ]
    },
    {
      "cell_type": "code",
      "execution_count": 24,
      "metadata": {
        "id": "ZtrT_1aFcQgW"
      },
      "outputs": [],
      "source": [
        "def data_format(format):\n",
        "  if format=='JSON':\n",
        "    additional_prompt=\"The output will be only in JSON format.\"\n",
        "  elif format=='CSV':\n",
        "    additional_prompt=\"The output will be only in CSV format.\"\n",
        "  else:\n",
        "    additional_prompt=\"The output will be only in MarkDown format.\"\n",
        "  return additional_prompt"
      ]
    },
    {
      "cell_type": "code",
      "execution_count": 25,
      "metadata": {
        "id": "teK_YiF2c5p6"
      },
      "outputs": [],
      "source": [
        "def model_messages(format):\n",
        "  messages=[{'role':'system','content':system_prompt},{'role':'user','content':user_prompt+data_format(format)}]\n",
        "\n",
        "  return messages"
      ]
    },
    {
      "cell_type": "markdown",
      "metadata": {
        "id": "iK7znNamdmzb"
      },
      "source": [
        "## MODELS"
      ]
    },
    {
      "cell_type": "markdown",
      "metadata": {
        "id": "yv6sQeJCd-9p"
      },
      "source": [
        "### First i will try quantization"
      ]
    },
    {
      "cell_type": "code",
      "execution_count": 26,
      "metadata": {
        "id": "ktinFstEdkVi"
      },
      "outputs": [],
      "source": [
        "quant_config = BitsAndBytesConfig(\n",
        "    load_in_4bit=True,\n",
        "    bnb_4bit_use_double_quant=True,\n",
        "    bnb_4bit_compute_dtype=torch.bfloat16,\n",
        "    bnb_4bit_quant_type=\"nf4\"\n",
        ")"
      ]
    },
    {
      "cell_type": "code",
      "execution_count": 27,
      "metadata": {
        "id": "liR4VRRze8QT"
      },
      "outputs": [],
      "source": [
        "def generate_model(messages,model_type):\n",
        "  tokenizer=AutoTokenizer.from_pretrained(model_type)\n",
        "  inputs=tokenizer.apply_chat_template(messages,add_generation_prompt=True,return_tensors=\"pt\").to(\"cuda\")\n",
        "  streamer=TextStreamer(tokenizer)\n",
        "  model = AutoModelForCausalLM.from_pretrained(model_type, device_map=\"auto\", quantization_config=quant_config)\n",
        "  outputs=model.generate(inputs,streamer=streamer,max_new_tokens=2000)\n",
        "  response = tokenizer.decode(outputs[0])\n",
        "\n",
        "  return response\n"
      ]
    },
    {
      "cell_type": "code",
      "execution_count": 28,
      "metadata": {
        "id": "u2e1BBUKgwRk"
      },
      "outputs": [],
      "source": [
        "def generate_dataset(model_choice, format):\n",
        "    if model_choice=='meta':\n",
        "      model_type=llama\n",
        "    else:\n",
        "      model_type=qwen_alibaba\n",
        "\n",
        "    messages = model_messages(format)\n",
        "    dataset = generate_model(messages, model_type)\n",
        "    return dataset"
      ]
    },
    {
      "cell_type": "markdown",
      "metadata": {
        "id": "SBiHozgdh9Ri"
      },
      "source": [
        "## Now i will create Interface"
      ]
    },
    {
      "cell_type": "code",
      "execution_count": 28,
      "metadata": {
        "id": "GUA_v2HNh86s"
      },
      "outputs": [],
      "source": []
    },
    {
      "cell_type": "code",
      "execution_count": 29,
      "metadata": {
        "id": "a52c4e3f"
      },
      "outputs": [],
      "source": [
        "%pip install -q gradio"
      ]
    },
    {
      "cell_type": "code",
      "execution_count": 30,
      "metadata": {
        "id": "fb588026"
      },
      "outputs": [],
      "source": [
        "import gradio as gr\n",
        "\n",
        "model_choices = ['meta', 'qwen']\n",
        "format_choices = ['JSON', 'CSV', 'MarkDown']\n",
        "\n",
        "iface = gr.Interface(\n",
        "    fn=generate_dataset,\n",
        "    inputs=[\n",
        "        gr.Dropdown(model_choices, label=\"Select Model\"),\n",
        "        gr.Dropdown(format_choices, label=\"Select Format\")\n",
        "    ],\n",
        "    outputs=gr.Textbox(label=\"Generated Dataset\"),\n",
        "    title=\"Synthetic Telemedicine Dataset Generator\"\n",
        ")"
      ]
    },
    {
      "cell_type": "code",
      "execution_count": null,
      "metadata": {
        "colab": {
          "base_uri": "https://localhost:8080/",
          "height": 1000,
          "referenced_widgets": [
            "6f9a63571c174056a7850c08e831a6ce",
            "ab8a41e096a8431b9291c3421756115b",
            "c73fa636b5954eef87816073debec351",
            "e4611141c8fb486aa9dbdea8282b9faf",
            "7cd8fa010d39439b914b7a3ce0c810fe",
            "afa8c9220f4d4f4aa61f535cbf892ed9",
            "bc4281b6a2b7492a86531850c2257968",
            "fe0ae397313c40fc9924ba10f295dab1",
            "7166cbb058b244c89077c0fd6e3f2d96",
            "94f4fa1f98d8439db2c5e6a8a67bc67f",
            "36904671557e42ae9763167ab8a690f2"
          ]
        },
        "id": "77f2f777",
        "outputId": "fde2a370-9388-4c83-9dae-7eec8dce0e59"
      },
      "outputs": [
        {
          "output_type": "stream",
          "name": "stdout",
          "text": [
            "It looks like you are running Gradio on a hosted Jupyter notebook, which requires `share=True`. Automatically setting `share=True` (you can turn this off by setting `share=False` in `launch()` explicitly).\n",
            "\n",
            "Colab notebook detected. This cell will run indefinitely so that you can see errors and logs. To turn off, set debug=False in launch().\n",
            "* Running on public URL: https://e9f8cea99092f76a97.gradio.live\n",
            "\n",
            "This share link expires in 1 week. For free permanent hosting and GPU upgrades, run `gradio deploy` from the terminal in the working directory to deploy to Hugging Face Spaces (https://huggingface.co/spaces)\n"
          ]
        },
        {
          "output_type": "display_data",
          "data": {
            "text/plain": [
              "<IPython.core.display.HTML object>"
            ],
            "text/html": [
              "<div><iframe src=\"https://e9f8cea99092f76a97.gradio.live\" width=\"100%\" height=\"500\" allow=\"autoplay; camera; microphone; clipboard-read; clipboard-write;\" frameborder=\"0\" allowfullscreen></iframe></div>"
            ]
          },
          "metadata": {}
        },
        {
          "output_type": "display_data",
          "data": {
            "text/plain": [
              "Loading checkpoint shards:   0%|          | 0/4 [00:00<?, ?it/s]"
            ],
            "application/vnd.jupyter.widget-view+json": {
              "version_major": 2,
              "version_minor": 0,
              "model_id": "6f9a63571c174056a7850c08e831a6ce"
            }
          },
          "metadata": {}
        },
        {
          "output_type": "stream",
          "name": "stderr",
          "text": [
            "The attention mask and the pad token id were not set. As a consequence, you may observe unexpected behavior. Please pass your input's `attention_mask` to obtain reliable results.\n",
            "Setting `pad_token_id` to `eos_token_id`:128001 for open-end generation.\n"
          ]
        },
        {
          "output_type": "stream",
          "name": "stdout",
          "text": [
            "<|begin_of_text|><|start_header_id|>system<|end_header_id|>\n",
            "\n",
            "Cutting Knowledge Date: December 2023\n",
            "Today Date: 26 Jul 2024\n",
            "\n",
            "You are data generation assistant that produces realistic,structured synthetic datasets for multi-modal multiagent AI system.Your task is to simulate realistic interactions between agents and users across tabular data,text, time series and structured data formats.<|eot_id|><|start_header_id|>user<|end_header_id|>\n",
            "\n",
            "Generate 50 telemedicine sessions. Each session object must include :\n",
            "  - session_id (UUID)\n",
            "  - patient_id, doctor_id\n",
            "  - start_time, end_time\n",
            "  - turns: list of {timestamp, speaker: \"Patient\"|\"Doctor\", content}\n",
            "  - vitals_timeseries: list of {timestamp, heart_rate, blood_pressure_systolic, blood_pressure_diastolic, temperature, respiratory_rate}\n",
            "  - summary: {avg_heart_rate, min_heart_rate, max_temperature, abnormal_readings_count}\n",
            "  - conclusion: {diagnosis, recommendations: […]}\n",
            "\n",
            " The output will be only in JSON format.<|eot_id|><|start_header_id|>assistant<|end_header_id|>\n",
            "\n",
            "```json\n",
            "[\n",
            "  {\n",
            "    \"session_id\": \"f5c3d5b7-7d3d-4c8b-b5e3-5d3d7d3d7d3d\",\n",
            "    \"patient_id\": 123,\n",
            "    \"doctor_id\": 456,\n",
            "    \"start_time\": \"2022-01-01T10:00:00\",\n",
            "    \"end_time\": \"2022-01-01T11:00:00\",\n",
            "    \"turns\": [\n",
            "      {\"timestamp\": \"2022-01-01T10:00:00\", \"speaker\": \"Patient\", \"content\": \"Hello, I'm feeling tired and have a headache\"},\n",
            "      {\"timestamp\": \"2022-01-01T10:02:00\", \"speaker\": \"Doctor\", \"content\": \"Hello, what's your name and what symptoms are you experiencing?\"}\n",
            "    ],\n",
            "    \"vitals_timeseries\": [\n",
            "      {\"timestamp\": \"2022-01-01T10:00:00\", \"heart_rate\": 80, \"blood_pressure_systolic\": 120, \"blood_pressure_diastolic\": 80, \"temperature\": 37.5, \"respiratory_rate\": 20},\n",
            "      {\"timestamp\": \"2022-01-01T10:15:00\", \"heart_rate\": 85, \"blood_pressure_systolic\": 125, \"blood_pressure_diastolic\": 85, \"temperature\": 37.6, \"respiratory_rate\": 22}\n",
            "    ],\n",
            "    \"summary\": {\"avg_heart_rate\": 82.5, \"min_heart_rate\": 80, \"max_temperature\": 37.6, \"abnormal_readings_count\": 0},\n",
            "    \"conclusion\": {\"diagnosis\": \"Common cold\", \"recommendations\": [\"Rest\", \"Drink plenty of water\", \"Take medication as prescribed\"]}\n",
            "  },\n",
            "  {\n",
            "    \"session_id\": \"e5c3d5b7-7d3d-4c8b-b5e3-5d3d7d3d7d3d\",\n",
            "    \"patient_id\": 789,\n",
            "    \"doctor_id\": 321,\n",
            "    \"start_time\": \"2022-01-02T14:00:00\",\n",
            "    \"end_time\": \"2022-01-02T15:00:00\",\n",
            "    \"turns\": [\n",
            "      {\"timestamp\": \"2022-01-02T14:00:00\", \"speaker\": \"Patient\", \"content\": \"I have a fever and my throat hurts\"},\n",
            "      {\"timestamp\": \"2022-01-02T14:05:00\", \"speaker\": \"Doctor\", \"content\": \"I'll take a look at your symptoms\"}\n",
            "    ],\n",
            "    \"vitals_timeseries\": [\n",
            "      {\"timestamp\": \"2022-01-02T14:00:00\", \"heart_rate\": 100, \"blood_pressure_systolic\": 140, \"blood_pressure_diastolic\": 90, \"temperature\": 39.0, \"respiratory_rate\": 30},\n",
            "      {\"timestamp\": \"2022-01-02T14:20:00\", \"heart_rate\": 105, \"blood_pressure_systolic\": 145, \"blood_pressure_diastolic\": 95, \"temperature\": 39.2, \"respiratory_rate\": 32}\n",
            "    ],\n",
            "    \"summary\": {\"avg_heart_rate\": 102.5, \"min_heart_rate\": 100, \"max_temperature\": 39.2, \"abnormal_readings_count\": 3},\n",
            "    \"conclusion\": {\"diagnosis\": \"Pneumonia\", \"recommendations\": [\"Take antibiotics\", \"Rest\", \"Drink plenty of water\"]}\n",
            "  },\n",
            "  {\n",
            "    \"session_id\": \"c5c3d5b7-7d3d-4c8b-b5e3-5d3d7d3d7d3d\",\n",
            "    \"patient_id\": 456,\n",
            "    \"doctor_id\": 789,\n",
            "    \"start_time\": \"2022-01-03T09:00:00\",\n",
            "    \"end_time\": \"2022-01-03T10:00:00\",\n",
            "    \"turns\": [\n",
            "      {\"timestamp\": \"2022-01-03T09:00:00\", \"speaker\": \"Patient\", \"content\": \"I have a rash on my skin\"},\n",
            "      {\"timestamp\": \"2022-01-03T09:05:00\", \"speaker\": \"Doctor\", \"content\": \"Let me take a look\"}\n",
            "    ],\n",
            "    \"vitals_timeseries\": [\n",
            "      {\"timestamp\": \"2022-01-03T09:00:00\", \"heart_rate\": 60, \"blood_pressure_systolic\": 110, \"blood_pressure_diastolic\": 70, \"temperature\": 37.0, \"respiratory_rate\": 18},\n",
            "      {\"timestamp\": \"2022-01-03T09:20:00\", \"heart_rate\": 65, \"blood_pressure_systolic\": 115, \"blood_pressure_diastolic\": 75, \"temperature\": 37.2, \"respiratory_rate\": 20}\n",
            "    ],\n",
            "    \"summary\": {\"avg_heart_rate\": 62.5, \"min_heart_rate\": 60, \"max_temperature\": 37.2, \"abnormal_readings_count\": 0},\n",
            "    \"conclusion\": {\"diagnosis\": \"Allergic reaction\", \"recommendations\": [\"Apply cold compress\", \"Take antihistamines\", \"Monitor symptoms\"]}\n",
            "  },\n",
            "  {\n",
            "    \"session_id\": \"a5c3d5b7-7d3d-4c8b-b5e3-5d3d7d3d7d3d\",\n",
            "    \"patient_id\": 321,\n",
            "    \"doctor_id\": 654,\n",
            "    \"start_time\": \"2022-01-04T11:00:00\",\n",
            "    \"end_time\": \"2022-01-04T12:00:00\",\n",
            "    \"turns\": [\n",
            "      {\"timestamp\": \"2022-01-04T11:00:00\", \"speaker\": \"Patient\", \"content\": \"I have a cough and shortness of breath\"},\n",
            "      {\"timestamp\": \"2022-01-04T11:05:00\", \"speaker\": \"Doctor\", \"content\": \"Let's take a look at your symptoms\"}\n",
            "    ],\n",
            "    \"vitals_timeseries\": [\n",
            "      {\"timestamp\": \"2022-01-04T11:00:00\", \"heart_rate\": 80, \"blood_pressure_systolic\": 120, \"blood_pressure_diastolic\": 80, \"temperature\": 37.5, \"respiratory_rate\": 25},\n",
            "      {\"timestamp\": \"2022-01-04T11:20:00\", \"heart_rate\": 85, \"blood_pressure_systolic\": 125, \"blood_pressure_diastolic\": 85, \"temperature\": 37.6, \"respiratory_rate\": 27}\n",
            "    ],\n",
            "    \"summary\": {\"avg_heart_rate\": 82.5, \"min_heart_rate\": 80, \"max_temperature\": 37.6, \"abnormal_readings_count\": 0},\n",
            "    \"conclusion\": {\"diagnosis\": \"Bronchitis\", \"recommendations\": [\"Take medication as prescribed\", \"Rest\", \"Drink plenty of water\"]}\n",
            "  },\n",
            "  {\n",
            "    \"session_id\": \"b5c3d5b7-7d3d-4c8b-b5e3-5d3d7d3d7d3d\",\n",
            "    \"patient_id\": 901,\n",
            "    \"doctor_id\": 432,\n",
            "    \"start_time\": \"2022-01-05T13:00:00\",\n",
            "    \"end_time\": \"2022-01-05T14:00:00\",\n",
            "    \"turns\": [\n",
            "      {\"timestamp\": \"2022-01-05T13:00:00\", \"speaker\": \"Patient\", \"content\": \"I have a sore throat and difficulty swallowing\"},\n",
            "      {\"timestamp\": \"2022-01-05T13:05:00\", \"speaker\": \"Doctor\", \"content\": \"Let's take a look at your symptoms\"}\n",
            "    ],\n",
            "    \"vitals_timeseries\": [\n",
            "      {\"timestamp\": \"2022-01-05T13:00:00\", \"heart_rate\": 100, \"blood_pressure_systolic\": 140, \"blood_pressure_diastolic\": 90, \"temperature\": 38.0, \"respiratory_rate\": 30},\n",
            "      {\"timestamp\": \"2022-01-05T13:20:00\", \"heart_rate\": 105, \"blood_pressure_systolic\": 145, \"blood_pressure_diastolic\": 95, \"temperature\": 38.2, \"respiratory_rate\": 32}\n",
            "    ],\n",
            "    \"summary\": {\"avg_heart_rate\": 102.5, \"min_heart_rate\": 100, \"max_temperature\": 38.2, \"abnormal_readings_count\": 3},\n",
            "    \"conclusion\": {\"diagnosis\": \"Tonsillitis\", \"recommendations\": [\"Take antibiotics\", \"Rest\", \"Drink plenty of water\"]}\n",
            "  },\n",
            "  {\n",
            "    \"session_id\": \"d5c3d5b7-7d3d-4c8b-b5e3-5d3d\n"
          ]
        }
      ],
      "source": [
        "iface.launch(debug=True)"
      ]
    }
  ],
  "metadata": {
    "accelerator": "GPU",
    "colab": {
      "gpuType": "T4",
      "provenance": []
    },
    "kernelspec": {
      "display_name": "Python 3",
      "name": "python3"
    },
    "language_info": {
      "name": "python"
    },
    "widgets": {
      "application/vnd.jupyter.widget-state+json": {
        "6f9a63571c174056a7850c08e831a6ce": {
          "model_module": "@jupyter-widgets/controls",
          "model_name": "HBoxModel",
          "model_module_version": "1.5.0",
          "state": {
            "_dom_classes": [],
            "_model_module": "@jupyter-widgets/controls",
            "_model_module_version": "1.5.0",
            "_model_name": "HBoxModel",
            "_view_count": null,
            "_view_module": "@jupyter-widgets/controls",
            "_view_module_version": "1.5.0",
            "_view_name": "HBoxView",
            "box_style": "",
            "children": [
              "IPY_MODEL_ab8a41e096a8431b9291c3421756115b",
              "IPY_MODEL_c73fa636b5954eef87816073debec351",
              "IPY_MODEL_e4611141c8fb486aa9dbdea8282b9faf"
            ],
            "layout": "IPY_MODEL_7cd8fa010d39439b914b7a3ce0c810fe"
          }
        },
        "ab8a41e096a8431b9291c3421756115b": {
          "model_module": "@jupyter-widgets/controls",
          "model_name": "HTMLModel",
          "model_module_version": "1.5.0",
          "state": {
            "_dom_classes": [],
            "_model_module": "@jupyter-widgets/controls",
            "_model_module_version": "1.5.0",
            "_model_name": "HTMLModel",
            "_view_count": null,
            "_view_module": "@jupyter-widgets/controls",
            "_view_module_version": "1.5.0",
            "_view_name": "HTMLView",
            "description": "",
            "description_tooltip": null,
            "layout": "IPY_MODEL_afa8c9220f4d4f4aa61f535cbf892ed9",
            "placeholder": "​",
            "style": "IPY_MODEL_bc4281b6a2b7492a86531850c2257968",
            "value": "Loading checkpoint shards: 100%"
          }
        },
        "c73fa636b5954eef87816073debec351": {
          "model_module": "@jupyter-widgets/controls",
          "model_name": "FloatProgressModel",
          "model_module_version": "1.5.0",
          "state": {
            "_dom_classes": [],
            "_model_module": "@jupyter-widgets/controls",
            "_model_module_version": "1.5.0",
            "_model_name": "FloatProgressModel",
            "_view_count": null,
            "_view_module": "@jupyter-widgets/controls",
            "_view_module_version": "1.5.0",
            "_view_name": "ProgressView",
            "bar_style": "success",
            "description": "",
            "description_tooltip": null,
            "layout": "IPY_MODEL_fe0ae397313c40fc9924ba10f295dab1",
            "max": 4,
            "min": 0,
            "orientation": "horizontal",
            "style": "IPY_MODEL_7166cbb058b244c89077c0fd6e3f2d96",
            "value": 4
          }
        },
        "e4611141c8fb486aa9dbdea8282b9faf": {
          "model_module": "@jupyter-widgets/controls",
          "model_name": "HTMLModel",
          "model_module_version": "1.5.0",
          "state": {
            "_dom_classes": [],
            "_model_module": "@jupyter-widgets/controls",
            "_model_module_version": "1.5.0",
            "_model_name": "HTMLModel",
            "_view_count": null,
            "_view_module": "@jupyter-widgets/controls",
            "_view_module_version": "1.5.0",
            "_view_name": "HTMLView",
            "description": "",
            "description_tooltip": null,
            "layout": "IPY_MODEL_94f4fa1f98d8439db2c5e6a8a67bc67f",
            "placeholder": "​",
            "style": "IPY_MODEL_36904671557e42ae9763167ab8a690f2",
            "value": " 4/4 [01:17&lt;00:00, 16.51s/it]"
          }
        },
        "7cd8fa010d39439b914b7a3ce0c810fe": {
          "model_module": "@jupyter-widgets/base",
          "model_name": "LayoutModel",
          "model_module_version": "1.2.0",
          "state": {
            "_model_module": "@jupyter-widgets/base",
            "_model_module_version": "1.2.0",
            "_model_name": "LayoutModel",
            "_view_count": null,
            "_view_module": "@jupyter-widgets/base",
            "_view_module_version": "1.2.0",
            "_view_name": "LayoutView",
            "align_content": null,
            "align_items": null,
            "align_self": null,
            "border": null,
            "bottom": null,
            "display": null,
            "flex": null,
            "flex_flow": null,
            "grid_area": null,
            "grid_auto_columns": null,
            "grid_auto_flow": null,
            "grid_auto_rows": null,
            "grid_column": null,
            "grid_gap": null,
            "grid_row": null,
            "grid_template_areas": null,
            "grid_template_columns": null,
            "grid_template_rows": null,
            "height": null,
            "justify_content": null,
            "justify_items": null,
            "left": null,
            "margin": null,
            "max_height": null,
            "max_width": null,
            "min_height": null,
            "min_width": null,
            "object_fit": null,
            "object_position": null,
            "order": null,
            "overflow": null,
            "overflow_x": null,
            "overflow_y": null,
            "padding": null,
            "right": null,
            "top": null,
            "visibility": null,
            "width": null
          }
        },
        "afa8c9220f4d4f4aa61f535cbf892ed9": {
          "model_module": "@jupyter-widgets/base",
          "model_name": "LayoutModel",
          "model_module_version": "1.2.0",
          "state": {
            "_model_module": "@jupyter-widgets/base",
            "_model_module_version": "1.2.0",
            "_model_name": "LayoutModel",
            "_view_count": null,
            "_view_module": "@jupyter-widgets/base",
            "_view_module_version": "1.2.0",
            "_view_name": "LayoutView",
            "align_content": null,
            "align_items": null,
            "align_self": null,
            "border": null,
            "bottom": null,
            "display": null,
            "flex": null,
            "flex_flow": null,
            "grid_area": null,
            "grid_auto_columns": null,
            "grid_auto_flow": null,
            "grid_auto_rows": null,
            "grid_column": null,
            "grid_gap": null,
            "grid_row": null,
            "grid_template_areas": null,
            "grid_template_columns": null,
            "grid_template_rows": null,
            "height": null,
            "justify_content": null,
            "justify_items": null,
            "left": null,
            "margin": null,
            "max_height": null,
            "max_width": null,
            "min_height": null,
            "min_width": null,
            "object_fit": null,
            "object_position": null,
            "order": null,
            "overflow": null,
            "overflow_x": null,
            "overflow_y": null,
            "padding": null,
            "right": null,
            "top": null,
            "visibility": null,
            "width": null
          }
        },
        "bc4281b6a2b7492a86531850c2257968": {
          "model_module": "@jupyter-widgets/controls",
          "model_name": "DescriptionStyleModel",
          "model_module_version": "1.5.0",
          "state": {
            "_model_module": "@jupyter-widgets/controls",
            "_model_module_version": "1.5.0",
            "_model_name": "DescriptionStyleModel",
            "_view_count": null,
            "_view_module": "@jupyter-widgets/base",
            "_view_module_version": "1.2.0",
            "_view_name": "StyleView",
            "description_width": ""
          }
        },
        "fe0ae397313c40fc9924ba10f295dab1": {
          "model_module": "@jupyter-widgets/base",
          "model_name": "LayoutModel",
          "model_module_version": "1.2.0",
          "state": {
            "_model_module": "@jupyter-widgets/base",
            "_model_module_version": "1.2.0",
            "_model_name": "LayoutModel",
            "_view_count": null,
            "_view_module": "@jupyter-widgets/base",
            "_view_module_version": "1.2.0",
            "_view_name": "LayoutView",
            "align_content": null,
            "align_items": null,
            "align_self": null,
            "border": null,
            "bottom": null,
            "display": null,
            "flex": null,
            "flex_flow": null,
            "grid_area": null,
            "grid_auto_columns": null,
            "grid_auto_flow": null,
            "grid_auto_rows": null,
            "grid_column": null,
            "grid_gap": null,
            "grid_row": null,
            "grid_template_areas": null,
            "grid_template_columns": null,
            "grid_template_rows": null,
            "height": null,
            "justify_content": null,
            "justify_items": null,
            "left": null,
            "margin": null,
            "max_height": null,
            "max_width": null,
            "min_height": null,
            "min_width": null,
            "object_fit": null,
            "object_position": null,
            "order": null,
            "overflow": null,
            "overflow_x": null,
            "overflow_y": null,
            "padding": null,
            "right": null,
            "top": null,
            "visibility": null,
            "width": null
          }
        },
        "7166cbb058b244c89077c0fd6e3f2d96": {
          "model_module": "@jupyter-widgets/controls",
          "model_name": "ProgressStyleModel",
          "model_module_version": "1.5.0",
          "state": {
            "_model_module": "@jupyter-widgets/controls",
            "_model_module_version": "1.5.0",
            "_model_name": "ProgressStyleModel",
            "_view_count": null,
            "_view_module": "@jupyter-widgets/base",
            "_view_module_version": "1.2.0",
            "_view_name": "StyleView",
            "bar_color": null,
            "description_width": ""
          }
        },
        "94f4fa1f98d8439db2c5e6a8a67bc67f": {
          "model_module": "@jupyter-widgets/base",
          "model_name": "LayoutModel",
          "model_module_version": "1.2.0",
          "state": {
            "_model_module": "@jupyter-widgets/base",
            "_model_module_version": "1.2.0",
            "_model_name": "LayoutModel",
            "_view_count": null,
            "_view_module": "@jupyter-widgets/base",
            "_view_module_version": "1.2.0",
            "_view_name": "LayoutView",
            "align_content": null,
            "align_items": null,
            "align_self": null,
            "border": null,
            "bottom": null,
            "display": null,
            "flex": null,
            "flex_flow": null,
            "grid_area": null,
            "grid_auto_columns": null,
            "grid_auto_flow": null,
            "grid_auto_rows": null,
            "grid_column": null,
            "grid_gap": null,
            "grid_row": null,
            "grid_template_areas": null,
            "grid_template_columns": null,
            "grid_template_rows": null,
            "height": null,
            "justify_content": null,
            "justify_items": null,
            "left": null,
            "margin": null,
            "max_height": null,
            "max_width": null,
            "min_height": null,
            "min_width": null,
            "object_fit": null,
            "object_position": null,
            "order": null,
            "overflow": null,
            "overflow_x": null,
            "overflow_y": null,
            "padding": null,
            "right": null,
            "top": null,
            "visibility": null,
            "width": null
          }
        },
        "36904671557e42ae9763167ab8a690f2": {
          "model_module": "@jupyter-widgets/controls",
          "model_name": "DescriptionStyleModel",
          "model_module_version": "1.5.0",
          "state": {
            "_model_module": "@jupyter-widgets/controls",
            "_model_module_version": "1.5.0",
            "_model_name": "DescriptionStyleModel",
            "_view_count": null,
            "_view_module": "@jupyter-widgets/base",
            "_view_module_version": "1.2.0",
            "_view_name": "StyleView",
            "description_width": ""
          }
        }
      }
    }
  },
  "nbformat": 4,
  "nbformat_minor": 0
}